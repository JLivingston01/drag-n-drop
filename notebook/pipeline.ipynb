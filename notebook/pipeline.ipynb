{
 "cells": [
  {
   "cell_type": "code",
   "execution_count": 109,
   "metadata": {},
   "outputs": [],
   "source": [
    "from sklearn.pipeline import Pipeline\n",
    "\n",
    "from sklearn.datasets import fetch_openml\n",
    "\n",
    "from sklearn.preprocessing import MinMaxScaler\n",
    "from sklearn.preprocessing import StandardScaler\n",
    "\n",
    "from sklearn.model_selection import train_test_split\n",
    "\n",
    "from sklearn.feature_selection import VarianceThreshold\n",
    "from sklearn.feature_selection import SelectKBest\n",
    "from sklearn.feature_selection import SequentialFeatureSelector\n",
    "\n",
    "from sklearn.linear_model import LinearRegression\n",
    "from sklearn.linear_model import RidgeCV\n",
    "from sklearn.linear_model import Ridge\n",
    "from sklearn.linear_model import LassoCV\n",
    "from sklearn.linear_model import Lasso\n",
    "from sklearn.linear_model import ElasticNetCV\n",
    "from sklearn.linear_model import ElasticNet\n",
    "\n",
    "from sklearn.ensemble import RandomForestRegressor\n",
    "from sklearn.ensemble import GradientBoostingRegressor\n",
    "from sklearn.tree import DecisionTreeRegressor\n",
    "from sklearn.svm import SVR\n",
    "\n",
    "from sklearn.ensemble import RandomForestClassifier\n",
    "\n",
    "from sklearn.feature_extraction.text import CountVectorizer\n",
    "\n",
    "import pandas as pd\n"
   ]
  },
  {
   "cell_type": "code",
   "execution_count": 110,
   "metadata": {},
   "outputs": [],
   "source": [
    "X1,y = fetch_openml(data_id=43592,return_X_y=True,as_frame=True,\n",
    "                   parser='auto')"
   ]
  },
  {
   "cell_type": "code",
   "execution_count": 111,
   "metadata": {},
   "outputs": [],
   "source": [
    "X = X1['text'].copy()\n",
    "y = X1['label'].copy()\n",
    "\n",
    "X = X.str.replace(\"nn\",\" \",regex=False)\n",
    "X = X.str.replace(\" n[A-Z]\",\" \",regex=True)"
   ]
  },
  {
   "cell_type": "code",
   "execution_count": 112,
   "metadata": {},
   "outputs": [],
   "source": [
    "Xtrain,Xtest,ytrain,ytest=train_test_split(X,y,random_state=42,shuffle=True,test_size=.2)"
   ]
  },
  {
   "cell_type": "code",
   "execution_count": 113,
   "metadata": {},
   "outputs": [
    {
     "data": {
      "text/plain": [
       "0       FAKE\n",
       "1       FAKE\n",
       "2       REAL\n",
       "3       FAKE\n",
       "4       REAL\n",
       "        ... \n",
       "6330    REAL\n",
       "6331    FAKE\n",
       "6332    FAKE\n",
       "6333    REAL\n",
       "6334    REAL\n",
       "Name: label, Length: 6335, dtype: object"
      ]
     },
     "execution_count": 113,
     "metadata": {},
     "output_type": "execute_result"
    }
   ],
   "source": [
    "y"
   ]
  },
  {
   "cell_type": "code",
   "execution_count": 114,
   "metadata": {},
   "outputs": [],
   "source": [
    "model = Pipeline(\n",
    "    steps=[\n",
    "        ('binarizer',CountVectorizer(ngram_range=(1,1),analyzer='word',max_df=.8,min_df=.0005,binary=True)),\n",
    "        ('learner',RandomForestClassifier(random_state=42))\n",
    "    ]\n",
    ").fit(Xtrain,ytrain)"
   ]
  },
  {
   "cell_type": "code",
   "execution_count": 115,
   "metadata": {},
   "outputs": [],
   "source": [
    "yfit = model.predict(Xtrain)\n",
    "ypred = model.predict(Xtest)"
   ]
  },
  {
   "cell_type": "code",
   "execution_count": 116,
   "metadata": {},
   "outputs": [],
   "source": [
    "from sklearn.metrics import accuracy_score"
   ]
  },
  {
   "cell_type": "code",
   "execution_count": 117,
   "metadata": {},
   "outputs": [
    {
     "data": {
      "text/plain": [
       "0.9321231254932912"
      ]
     },
     "execution_count": 117,
     "metadata": {},
     "output_type": "execute_result"
    }
   ],
   "source": [
    "accuracy_score(ytest,ypred)"
   ]
  },
  {
   "cell_type": "code",
   "execution_count": 118,
   "metadata": {},
   "outputs": [
    {
     "data": {
      "text/plain": [
       "'Will Trump pull a Brexit times ten? What would it take, beyond WikiLeaks, to bring the Clinton (cash) machine down? Will Hillary win and then declare WWIII against her Russia/Iran/Syria axis of evil? Will the Middle East totally explode? Will the pivot to Asia totally implode? Will China be ruling the world by 2025?nAmidst so many frenetic fragments of geopolitical reality precariously shored against our ruins, the temptation is irresistible to hark back to the late, great, deconstructionist master Jean Baudrillard. During the post-mod 1980s it was hip to be Baudrillardian to the core; his America, originally published in France in 1986, should still be read today as the definitive metaphysical/geological/cultural Instagram of Exceptionalistan.nBy the late 1990s, at the end of the mille ium, two years before 9/11  that seminal before and after event  Baudrillard was already stressing how we live in a black market maze. Now, its a black market paroxysm.nGlobal multitudes are subjected to a black market of work  as in the deregulation of the official market; a black market of unemployment; a black market of financial speculation; a black market of misery and poverty; a black market of sex (as in prostitution); a black market of information (as in espionage and shadow wars); a black market of weapons; and even a black market of thinking.nWay beyond the late 20th century, in the 2010s what the West praises as liberal democracy  actually a neoliberal diktat  has virtually absorbed every ideological divergence, while leaving behind a heap of differences floating in some sort of trompe loeil effect. Whats left is a widespread, noxious condition; the pre-emptive prohibition of any critical thought, which has no way to express itself other than becoming clandestine (or finding the right internet niche).nBaudrillard already knew that the concept of alter  killed by conviviality  does not exist in the official market. So an alter black market also sprung up, co-opted by traffickers; thats, for instance, the realm of racism, nativism and other forms of exclusion. Baudrillard already identified how a contraband alter, expressed by sects and every form of nationalism (nowadays, think about the spectrum between jihadism and extreme-right wing political parties) was bound to become more virulent in a society that is desperately intolerant, obsessed with regimentation, and totally homogenized.nThere could be so much exhilaration inbuilt in life lived in a bewildering chimera cocktail of cultures, signs, differences and values; but then came the coupling of thinking with its exact IT replica  artificial intelligence, playing with the line of demarcation between human and non-human in the domain of thought.nThe result, previewed by Baudrillard, was the secretion of a parapolitical society  with a sort of mafia controlling this secret form of generalized corruption (think the financial Masters of the Universe). Power is unable to fight this mafia  and that would be, on top of it, hypocritical, because the mafia itself emanates from power.nThe end result is that what really matters today, anywhere, mostly tends to happen outside all official circuits; like in a social black market.nIs there any information truth?nBaudrillard showed how political economy is a massive machine, producing value, producing signs of wealth, but not wealth itself. The whole media/information system  still ruled by America  is a massive machine producing events as signs; exchangeable value in the universal market of ideology, the star system and catastrophism.nThis abstraction of information works as in the economy  disgorging a coded material, deciphered in advance, and negotiable in terms of models, as much as the economy disgorges products negotiable in terms of price and value.nSince all merchandise, thanks to this abstraction of value, is exchangeable, then every event (or non-event) is also exchangeable, all replacing one another in the cultural market of information.nAnd that takes us to where we live now; Trans-History, and Trans-Politics  where events have really not happened, as they get lost in the vacuum of information (as much as the economy gets lost in the vacuum of speculation).nThus this quintessential Baudrillard insight; if we consider History as a movie  and thats what it is now  then the truth of information is no more than post-production synch, dubbing and subtitles.nStill, as we all keep an intense desire for devouring events, there is immense disappointment as well, because the content of information is desperately inferior to the means of broadcasting them. Call it a pathetic, universal contagion; people dont know what to do about their sadness or enthusiasm  in parallel to our societies becoming theaters of the absurd where nothing has consequences.nNo acts, deeds, crimes (the 2008 financial crisis), political events (the WikiLeaks emails showing virtually no distinction between the nonprofit Clinton cash machine, whats private and whats public, the obsessive pursuit of personal wealth, and the affairs of the state)nseem to have real consequences.nImmunity, impunity, corruption, speculation  we veer towards a state of zero responsibility (think Goldman Sachs). So, automatically, we yearn for an event of maximum consequence, a fatal event to repair that scandalous non-equivalence. Like a symbolic re-equilibrium of the scales of destiny.nSo we dream of an amazing event  Trump wi ing the election? Hillary declaring WWIII?  that would free us from the tyra y of meaning and the constraint of always searching for the equivalence between effects and causes.nShadowing the worldnJust like Baudrillard, I got to see deep America in the 1980s and 1990s by driving across America.nSo sooner or later one develops a metaphysical relationship with that ubiquitous warning, Objects in this mirror may be closer than they appear.nBut what if they may also be further than they appear?nThe contemporary instant event/celebrity culture deluge of images upon us; does it get us closer to a so-called real world that is in fact very far away from us? Or does it in fact keep the world at a distance  creating an artificial depth of field that protects us from the imminence of objects and the virtual danger they represent?nIn parallel, we keep slouching towards a single future language  the language of algorithms, as designed across the Wall Street/Silicon Valley axis  that would represent a real anthropological catastrophe, just like the globalist/New World Order dream of One Thought and One Culture.nLanguages are multiple and singular  by definition. If there were a single language, words would become univocal, regulating themselves in an autopilot of meaning. There would be no interplay  as in artificial languages theres no interplay. Language would be just the meek appendix of a unified reality  the negative destiny of a languidly unified human species.nThats where the American dream seems to be heading. Its time to take the next exit ramp.nThis piece first appeared Strategic-Culture .n Pepe Escobar is the author of Globalistan: How the Globalized World is Dissolving into Liquid War (Nimble Books, 2007), Red Zone Blues: a snapshot of Baghdad during the surge and Obama does Globalistan (Nimble Books, 2009). His latest book is Empire of Chaos . He may be reached at pepeasiayahoo.com .'"
      ]
     },
     "execution_count": 118,
     "metadata": {},
     "output_type": "execute_result"
    }
   ],
   "source": [
    "Xtest.values[0]"
   ]
  },
  {
   "cell_type": "code",
   "execution_count": 119,
   "metadata": {},
   "outputs": [
    {
     "data": {
      "text/plain": [
       "1357    FAKE\n",
       "2080    FAKE\n",
       "2718    FAKE\n",
       "812     FAKE\n",
       "4886    FAKE\n",
       "        ... \n",
       "1512    FAKE\n",
       "57      REAL\n",
       "6092    REAL\n",
       "3403    REAL\n",
       "292     REAL\n",
       "Name: label, Length: 1267, dtype: object"
      ]
     },
     "execution_count": 119,
     "metadata": {},
     "output_type": "execute_result"
    }
   ],
   "source": [
    "ytest"
   ]
  },
  {
   "cell_type": "code",
   "execution_count": 120,
   "metadata": {},
   "outputs": [],
   "source": [
    "new_text = pd.Series(\n",
    "    ['Today in Brooklyn, a man was gunned down by two armed female attackers. The assailants are still at large. Anyone with information should contact the NYPD.']\n",
    ")"
   ]
  },
  {
   "cell_type": "code",
   "execution_count": 121,
   "metadata": {},
   "outputs": [
    {
     "data": {
      "text/plain": [
       "array(['FAKE'], dtype=object)"
      ]
     },
     "execution_count": 121,
     "metadata": {},
     "output_type": "execute_result"
    }
   ],
   "source": [
    "model.predict(new_text)"
   ]
  },
  {
   "cell_type": "code",
   "execution_count": 122,
   "metadata": {},
   "outputs": [
    {
     "data": {
      "text/plain": [
       "array(['FAKE'], dtype=object)"
      ]
     },
     "execution_count": 122,
     "metadata": {},
     "output_type": "execute_result"
    }
   ],
   "source": [
    "new_text = pd.Series(\n",
    "    [\n",
    "        \"\"\"\n",
    "        In his more than three decades in politics, Benjamin Netanyahu has accrued almost as many nicknames as he has election wins.\n",
    "\n",
    "        There’s “The Magician” for his uncanny ability to grab victory from the jaws of defeat. “King Bibi” for staying atop Israeli politics longer than anyone else. And, universally, though not necessarily affectionately: plain old “Bibi”. But there is another one he revelled in, and which now appears in tatters: “Mr Security.” How did it all go so wrong?\n",
    "\n",
    "        \"\"\"\n",
    "    ]\n",
    ")\n",
    "model.predict(new_text)"
   ]
  },
  {
   "cell_type": "code",
   "execution_count": 123,
   "metadata": {},
   "outputs": [],
   "source": [
    "clf = model['learner']\n",
    "vect = model['binarizer']"
   ]
  },
  {
   "cell_type": "code",
   "execution_count": 124,
   "metadata": {},
   "outputs": [],
   "source": [
    "imps = pd.DataFrame(\n",
    "    {'token':vect.get_feature_names_out(),\n",
    "     'imp':clf.feature_importances_}\n",
    ")"
   ]
  },
  {
   "cell_type": "code",
   "execution_count": 125,
   "metadata": {},
   "outputs": [
    {
     "data": {
      "text/html": [
       "<div>\n",
       "<style scoped>\n",
       "    .dataframe tbody tr th:only-of-type {\n",
       "        vertical-align: middle;\n",
       "    }\n",
       "\n",
       "    .dataframe tbody tr th {\n",
       "        vertical-align: top;\n",
       "    }\n",
       "\n",
       "    .dataframe thead th {\n",
       "        text-align: right;\n",
       "    }\n",
       "</style>\n",
       "<table border=\"1\" class=\"dataframe\">\n",
       "  <thead>\n",
       "    <tr style=\"text-align: right;\">\n",
       "      <th></th>\n",
       "      <th>token</th>\n",
       "      <th>imp</th>\n",
       "    </tr>\n",
       "  </thead>\n",
       "  <tbody>\n",
       "    <tr>\n",
       "      <th>18415</th>\n",
       "      <td>obama</td>\n",
       "      <td>0.008519</td>\n",
       "    </tr>\n",
       "    <tr>\n",
       "      <th>22473</th>\n",
       "      <td>republican</td>\n",
       "      <td>0.007886</td>\n",
       "    </tr>\n",
       "    <tr>\n",
       "      <th>18545</th>\n",
       "      <td>october</td>\n",
       "      <td>0.007397</td>\n",
       "    </tr>\n",
       "    <tr>\n",
       "      <th>307</th>\n",
       "      <td>2016</td>\n",
       "      <td>0.006738</td>\n",
       "    </tr>\n",
       "    <tr>\n",
       "      <th>23875</th>\n",
       "      <td>sen</td>\n",
       "      <td>0.005904</td>\n",
       "    </tr>\n",
       "    <tr>\n",
       "      <th>11735</th>\n",
       "      <td>gop</td>\n",
       "      <td>0.005343</td>\n",
       "    </tr>\n",
       "    <tr>\n",
       "      <th>22475</th>\n",
       "      <td>republicans</td>\n",
       "      <td>0.004968</td>\n",
       "    </tr>\n",
       "    <tr>\n",
       "      <th>27494</th>\n",
       "      <td>tuesday</td>\n",
       "      <td>0.004612</td>\n",
       "    </tr>\n",
       "    <tr>\n",
       "      <th>4337</th>\n",
       "      <td>candidates</td>\n",
       "      <td>0.003903</td>\n",
       "    </tr>\n",
       "    <tr>\n",
       "      <th>23330</th>\n",
       "      <td>said</td>\n",
       "      <td>0.003795</td>\n",
       "    </tr>\n",
       "    <tr>\n",
       "      <th>20714</th>\n",
       "      <td>president</td>\n",
       "      <td>0.003757</td>\n",
       "    </tr>\n",
       "    <tr>\n",
       "      <th>12346</th>\n",
       "      <td>hat</td>\n",
       "      <td>0.003333</td>\n",
       "    </tr>\n",
       "    <tr>\n",
       "      <th>12955</th>\n",
       "      <td>house</td>\n",
       "      <td>0.003257</td>\n",
       "    </tr>\n",
       "    <tr>\n",
       "      <th>28324</th>\n",
       "      <td>ut</td>\n",
       "      <td>0.003246</td>\n",
       "    </tr>\n",
       "    <tr>\n",
       "      <th>6646</th>\n",
       "      <td>cruz</td>\n",
       "      <td>0.002989</td>\n",
       "    </tr>\n",
       "    <tr>\n",
       "      <th>6987</th>\n",
       "      <td>debate</td>\n",
       "      <td>0.002980</td>\n",
       "    </tr>\n",
       "    <tr>\n",
       "      <th>5931</th>\n",
       "      <td>conservative</td>\n",
       "      <td>0.002833</td>\n",
       "    </tr>\n",
       "    <tr>\n",
       "      <th>26676</th>\n",
       "      <td>than</td>\n",
       "      <td>0.002741</td>\n",
       "    </tr>\n",
       "    <tr>\n",
       "      <th>16302</th>\n",
       "      <td>marco</td>\n",
       "      <td>0.002738</td>\n",
       "    </tr>\n",
       "    <tr>\n",
       "      <th>26505</th>\n",
       "      <td>ted</td>\n",
       "      <td>0.002725</td>\n",
       "    </tr>\n",
       "    <tr>\n",
       "      <th>11756</th>\n",
       "      <td>gov</td>\n",
       "      <td>0.002717</td>\n",
       "    </tr>\n",
       "    <tr>\n",
       "      <th>27009</th>\n",
       "      <td>told</td>\n",
       "      <td>0.002641</td>\n",
       "    </tr>\n",
       "    <tr>\n",
       "      <th>12678</th>\n",
       "      <td>him</td>\n",
       "      <td>0.002613</td>\n",
       "    </tr>\n",
       "    <tr>\n",
       "      <th>2154</th>\n",
       "      <td>article</td>\n",
       "      <td>0.002528</td>\n",
       "    </tr>\n",
       "    <tr>\n",
       "      <th>23876</th>\n",
       "      <td>senate</td>\n",
       "      <td>0.002498</td>\n",
       "    </tr>\n",
       "    <tr>\n",
       "      <th>1083</th>\n",
       "      <td>administration</td>\n",
       "      <td>0.002376</td>\n",
       "    </tr>\n",
       "    <tr>\n",
       "      <th>23878</th>\n",
       "      <td>senator</td>\n",
       "      <td>0.002345</td>\n",
       "    </tr>\n",
       "    <tr>\n",
       "      <th>10995</th>\n",
       "      <td>fox</td>\n",
       "      <td>0.002345</td>\n",
       "    </tr>\n",
       "    <tr>\n",
       "      <th>12547</th>\n",
       "      <td>hen</td>\n",
       "      <td>0.002312</td>\n",
       "    </tr>\n",
       "    <tr>\n",
       "      <th>18123</th>\n",
       "      <td>nomination</td>\n",
       "      <td>0.002254</td>\n",
       "    </tr>\n",
       "    <tr>\n",
       "      <th>23197</th>\n",
       "      <td>rubio</td>\n",
       "      <td>0.002240</td>\n",
       "    </tr>\n",
       "    <tr>\n",
       "      <th>10937</th>\n",
       "      <td>former</td>\n",
       "      <td>0.002214</td>\n",
       "    </tr>\n",
       "    <tr>\n",
       "      <th>21721</th>\n",
       "      <td>re</td>\n",
       "      <td>0.002172</td>\n",
       "    </tr>\n",
       "    <tr>\n",
       "      <th>7985</th>\n",
       "      <td>dismantling</td>\n",
       "      <td>0.002165</td>\n",
       "    </tr>\n",
       "    <tr>\n",
       "      <th>6114</th>\n",
       "      <td>contributed</td>\n",
       "      <td>0.002038</td>\n",
       "    </tr>\n",
       "    <tr>\n",
       "      <th>1246</th>\n",
       "      <td>after</td>\n",
       "      <td>0.002019</td>\n",
       "    </tr>\n",
       "    <tr>\n",
       "      <th>5475</th>\n",
       "      <td>com</td>\n",
       "      <td>0.001999</td>\n",
       "    </tr>\n",
       "    <tr>\n",
       "      <th>8256</th>\n",
       "      <td>doesn</td>\n",
       "      <td>0.001997</td>\n",
       "    </tr>\n",
       "    <tr>\n",
       "      <th>29659</th>\n",
       "      <td>your</td>\n",
       "      <td>0.001990</td>\n",
       "    </tr>\n",
       "    <tr>\n",
       "      <th>17752</th>\n",
       "      <td>nd</td>\n",
       "      <td>0.001947</td>\n",
       "    </tr>\n",
       "  </tbody>\n",
       "</table>\n",
       "</div>"
      ],
      "text/plain": [
       "                token       imp\n",
       "18415           obama  0.008519\n",
       "22473      republican  0.007886\n",
       "18545         october  0.007397\n",
       "307              2016  0.006738\n",
       "23875             sen  0.005904\n",
       "11735             gop  0.005343\n",
       "22475     republicans  0.004968\n",
       "27494         tuesday  0.004612\n",
       "4337       candidates  0.003903\n",
       "23330            said  0.003795\n",
       "20714       president  0.003757\n",
       "12346             hat  0.003333\n",
       "12955           house  0.003257\n",
       "28324              ut  0.003246\n",
       "6646             cruz  0.002989\n",
       "6987           debate  0.002980\n",
       "5931     conservative  0.002833\n",
       "26676            than  0.002741\n",
       "16302           marco  0.002738\n",
       "26505             ted  0.002725\n",
       "11756             gov  0.002717\n",
       "27009            told  0.002641\n",
       "12678             him  0.002613\n",
       "2154          article  0.002528\n",
       "23876          senate  0.002498\n",
       "1083   administration  0.002376\n",
       "23878         senator  0.002345\n",
       "10995             fox  0.002345\n",
       "12547             hen  0.002312\n",
       "18123      nomination  0.002254\n",
       "23197           rubio  0.002240\n",
       "10937          former  0.002214\n",
       "21721              re  0.002172\n",
       "7985      dismantling  0.002165\n",
       "6114      contributed  0.002038\n",
       "1246            after  0.002019\n",
       "5475              com  0.001999\n",
       "8256            doesn  0.001997\n",
       "29659            your  0.001990\n",
       "17752              nd  0.001947"
      ]
     },
     "execution_count": 125,
     "metadata": {},
     "output_type": "execute_result"
    }
   ],
   "source": [
    "imps[imps['imp']>0].sort_values(by='imp',ascending=False).head(40)"
   ]
  },
  {
   "cell_type": "code",
   "execution_count": 108,
   "metadata": {},
   "outputs": [
    {
     "data": {
      "text/plain": [
       "\"Time: Investigating Hillary is an Attack on All Women November 1, 2016 nGood morning. It's Tuesday. nWho's up for another silly attempt to claim that Hillary Clinton is only being investigated for her rogue email setup because she's a woman? This gem comes from Robin Lakoff, a Berkeley professor in sustained incoherence and special pleading. nHillary Clintons Emailgate Is an Attack on Women n'It's not about emails; it's about public communication by a woman nI am mad. I am mad because I am scared. And if you are a woman, you should be, too. Emailgate is a bitch hunt, but the target is not Hillary Clinton. Its us. nThe only reason the whole email flap has legs is because the candidate is female. Can you imagine this happening to a man? nHis name was General Petraeus. Thank you. Have a nice day. nClinton is guilty of SWF (Speaking While Female), and emailgate is just a reminder to us all that she has no business doing what shes doing and must be punished, for the sake of all decent women everywhere. There is so much of that going around. nThat escalated quickly. And incoherently. Also I'm pretty sure it's not the 20s or whatever decade Robin is parodying or cha eling. But yes, Hillary Clinton is only in this mess because she's a woman. It has nothing to do with anything else. That must be why Albright and Rice weren't in the center of similar scandals. nIf the candidate were male, there would be no scolding and no scandal. Those very ideas would be absurd. Men have a nearly absolute right to freedom of speech. In theory, so do women, but that, as the creationists like to say, is only a theory. nEmailing classified information on your server to avoid transparency regulations is not free speech. It's illegal for both public officials of both genders. nBut heres Hillary Rodham Clinton, the very public stand-in for all bossy, uppity and ambitious women. Here are her emails. And since its a woman, doing what decent women should never doengaging in high-level public communicationwell, there must be something wrong with that, even if we cant quite find that something. nIllegally... emailing... classified... information.\""
      ]
     },
     "execution_count": 108,
     "metadata": {},
     "output_type": "execute_result"
    }
   ],
   "source": [
    "Xtrain[Xtrain.str.lower().str.contains(\"nthe\")].values[0]"
   ]
  },
  {
   "cell_type": "code",
   "execution_count": null,
   "metadata": {},
   "outputs": [],
   "source": []
  }
 ],
 "metadata": {
  "kernelspec": {
   "display_name": ".venv",
   "language": "python",
   "name": "python3"
  },
  "language_info": {
   "codemirror_mode": {
    "name": "ipython",
    "version": 3
   },
   "file_extension": ".py",
   "mimetype": "text/x-python",
   "name": "python",
   "nbconvert_exporter": "python",
   "pygments_lexer": "ipython3",
   "version": "3.11.3"
  }
 },
 "nbformat": 4,
 "nbformat_minor": 2
}
