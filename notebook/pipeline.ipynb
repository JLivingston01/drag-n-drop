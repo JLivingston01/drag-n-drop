{
 "cells": [
  {
   "cell_type": "code",
   "execution_count": 57,
   "metadata": {},
   "outputs": [],
   "source": [
    "from sklearn.pipeline import Pipeline\n",
    "\n",
    "from sklearn.datasets import fetch_openml\n",
    "\n",
    "from sklearn.preprocessing import MinMaxScaler\n",
    "from sklearn.preprocessing import StandardScaler\n",
    "\n",
    "from sklearn.model_selection import train_test_split\n",
    "\n",
    "from sklearn.feature_selection import VarianceThreshold\n",
    "from sklearn.feature_selection import SelectKBest\n",
    "from sklearn.feature_selection import SequentialFeatureSelector\n",
    "\n",
    "from sklearn.linear_model import LinearRegression\n",
    "from sklearn.linear_model import RidgeCV\n",
    "from sklearn.linear_model import Ridge\n",
    "from sklearn.linear_model import LassoCV\n",
    "from sklearn.linear_model import Lasso\n",
    "from sklearn.linear_model import ElasticNetCV\n",
    "from sklearn.linear_model import ElasticNet\n",
    "\n",
    "from sklearn.ensemble import RandomForestRegressor\n",
    "from sklearn.ensemble import GradientBoostingRegressor\n",
    "from sklearn.tree import DecisionTreeRegressor\n",
    "from sklearn.svm import SVR\n",
    "\n",
    "from sklearn.ensemble import RandomForestClassifier\n",
    "\n",
    "from sklearn.feature_extraction.text import CountVectorizer\n",
    "\n",
    "import pandas as pd\n"
   ]
  },
  {
   "cell_type": "code",
   "execution_count": 58,
   "metadata": {},
   "outputs": [],
   "source": [
    "X1,y = fetch_openml(data_id=43592,return_X_y=True,as_frame=True,\n",
    "                   parser='auto')"
   ]
  },
  {
   "cell_type": "code",
   "execution_count": 59,
   "metadata": {},
   "outputs": [],
   "source": [
    "X = X1[['text']].copy()\n",
    "y = X1['label'].copy()"
   ]
  },
  {
   "cell_type": "code",
   "execution_count": 60,
   "metadata": {},
   "outputs": [],
   "source": [
    "Xtrain,Xtest,ytrain,ytest=train_test_split(X['text'],y,random_state=42,shuffle=True,test_size=.2)"
   ]
  },
  {
   "cell_type": "code",
   "execution_count": 61,
   "metadata": {},
   "outputs": [
    {
     "data": {
      "text/plain": [
       "0       FAKE\n",
       "1       FAKE\n",
       "2       REAL\n",
       "3       FAKE\n",
       "4       REAL\n",
       "        ... \n",
       "6330    REAL\n",
       "6331    FAKE\n",
       "6332    FAKE\n",
       "6333    REAL\n",
       "6334    REAL\n",
       "Name: label, Length: 6335, dtype: object"
      ]
     },
     "execution_count": 61,
     "metadata": {},
     "output_type": "execute_result"
    }
   ],
   "source": [
    "y"
   ]
  },
  {
   "cell_type": "code",
   "execution_count": 62,
   "metadata": {},
   "outputs": [],
   "source": [
    "model = Pipeline(\n",
    "    steps=[\n",
    "        ('binarizer',CountVectorizer(ngram_range=(1,1),analyzer='word',max_df=.8,min_df=.0005,binary=True)),\n",
    "        ('learner',RandomForestClassifier(random_state=42))\n",
    "    ]\n",
    ").fit(Xtrain,ytrain)"
   ]
  },
  {
   "cell_type": "code",
   "execution_count": 63,
   "metadata": {},
   "outputs": [],
   "source": [
    "yfit = model.predict(Xtrain)\n",
    "ypred = model.predict(Xtest)"
   ]
  },
  {
   "cell_type": "code",
   "execution_count": 64,
   "metadata": {},
   "outputs": [],
   "source": [
    "from sklearn.metrics import accuracy_score"
   ]
  },
  {
   "cell_type": "code",
   "execution_count": 65,
   "metadata": {},
   "outputs": [
    {
     "data": {
      "text/plain": [
       "0.9779005524861878"
      ]
     },
     "execution_count": 65,
     "metadata": {},
     "output_type": "execute_result"
    }
   ],
   "source": [
    "accuracy_score(ytest,ypred)"
   ]
  },
  {
   "cell_type": "code",
   "execution_count": 66,
   "metadata": {},
   "outputs": [
    {
     "data": {
      "text/plain": [
       "'Will Trump pull a Brexit times ten? What would it take, beyond WikiLeaks, to bring the Clinton (cash) machine down? Will Hillary win and then declare WWIII against her Russia/Iran/Syria axis of evil? Will the Middle East totally explode? Will the pivot to Asia totally implode? Will China be ruling the world by 2025?nAmidst so many frenetic fragments of geopolitical reality precariously shored against our ruins, the temptation is irresistible to hark back to the late, great, deconstructionist master Jean Baudrillard. During the post-mod 1980s it was hip to be Baudrillardian to the core; his America, originally published in France in 1986, should still be read today as the definitive metaphysical/geological/cultural Instagram of Exceptionalistan.nBy the late 1990s, at the end of the millennium, two years before 9/11  that seminal before and after event  Baudrillard was already stressing how we live in a black market maze. Now, its a black market paroxysm.nGlobal multitudes are subjected to a black market of work  as in the deregulation of the official market; a black market of unemployment; a black market of financial speculation; a black market of misery and poverty; a black market of sex (as in prostitution); a black market of information (as in espionage and shadow wars); a black market of weapons; and even a black market of thinking.nWay beyond the late 20th century, in the 2010s what the West praises as liberal democracy  actually a neoliberal diktat  has virtually absorbed every ideological divergence, while leaving behind a heap of differences floating in some sort of trompe loeil effect. Whats left is a widespread, noxious condition; the pre-emptive prohibition of any critical thought, which has no way to express itself other than becoming clandestine (or finding the right internet niche).nBaudrillard already knew that the concept of alter  killed by conviviality  does not exist in the official market. So an alter black market also sprung up, co-opted by traffickers; thats, for instance, the realm of racism, nativism and other forms of exclusion. Baudrillard already identified how a contraband alter, expressed by sects and every form of nationalism (nowadays, think about the spectrum between jihadism and extreme-right wing political parties) was bound to become more virulent in a society that is desperately intolerant, obsessed with regimentation, and totally homogenized.nThere could be so much exhilaration inbuilt in life lived in a bewildering chimera cocktail of cultures, signs, differences and values; but then came the coupling of thinking with its exact IT replica  artificial intelligence, playing with the line of demarcation between human and non-human in the domain of thought.nThe result, previewed by Baudrillard, was the secretion of a parapolitical society  with a sort of mafia controlling this secret form of generalized corruption (think the financial Masters of the Universe). Power is unable to fight this mafia  and that would be, on top of it, hypocritical, because the mafia itself emanates from power.nThe end result is that what really matters today, anywhere, mostly tends to happen outside all official circuits; like in a social black market.nIs there any information truth?nBaudrillard showed how political economy is a massive machine, producing value, producing signs of wealth, but not wealth itself. The whole media/information system  still ruled by America  is a massive machine producing events as signs; exchangeable value in the universal market of ideology, the star system and catastrophism.nThis abstraction of information works as in the economy  disgorging a coded material, deciphered in advance, and negotiable in terms of models, as much as the economy disgorges products negotiable in terms of price and value.nSince all merchandise, thanks to this abstraction of value, is exchangeable, then every event (or non-event) is also exchangeable, all replacing one another in the cultural market of information.nAnd that takes us to where we live now; Trans-History, and Trans-Politics  where events have really not happened, as they get lost in the vacuum of information (as much as the economy gets lost in the vacuum of speculation).nThus this quintessential Baudrillard insight; if we consider History as a movie  and thats what it is now  then the truth of information is no more than post-production synch, dubbing and subtitles.nStill, as we all keep an intense desire for devouring events, there is immense disappointment as well, because the content of information is desperately inferior to the means of broadcasting them. Call it a pathetic, universal contagion; people dont know what to do about their sadness or enthusiasm  in parallel to our societies becoming theaters of the absurd where nothing has consequences.nNo acts, deeds, crimes (the 2008 financial crisis), political events (the WikiLeaks emails showing virtually no distinction between the nonprofit Clinton cash machine, whats private and whats public, the obsessive pursuit of personal wealth, and the affairs of the state)nseem to have real consequences.nImmunity, impunity, corruption, speculation  we veer towards a state of zero responsibility (think Goldman Sachs). So, automatically, we yearn for an event of maximum consequence, a fatal event to repair that scandalous non-equivalence. Like a symbolic re-equilibrium of the scales of destiny.nSo we dream of an amazing event  Trump winning the election? Hillary declaring WWIII?  that would free us from the tyranny of meaning and the constraint of always searching for the equivalence between effects and causes.nShadowing the worldnJust like Baudrillard, I got to see deep America in the 1980s and 1990s by driving across America.nSo sooner or later one develops a metaphysical relationship with that ubiquitous warning, Objects in this mirror may be closer than they appear.nBut what if they may also be further than they appear?nThe contemporary instant event/celebrity culture deluge of images upon us; does it get us closer to a so-called real world that is in fact very far away from us? Or does it in fact keep the world at a distance  creating an artificial depth of field that protects us from the imminence of objects and the virtual danger they represent?nIn parallel, we keep slouching towards a single future language  the language of algorithms, as designed across the Wall Street/Silicon Valley axis  that would represent a real anthropological catastrophe, just like the globalist/New World Order dream of One Thought and One Culture.nLanguages are multiple and singular  by definition. If there were a single language, words would become univocal, regulating themselves in an autopilot of meaning. There would be no interplay  as in artificial languages theres no interplay. Language would be just the meek appendix of a unified reality  the negative destiny of a languidly unified human species.nThats where the American dream seems to be heading. Its time to take the next exit ramp.nThis piece first appeared Strategic-Culture .n Pepe Escobar is the author of Globalistan: How the Globalized World is Dissolving into Liquid War (Nimble Books, 2007), Red Zone Blues: a snapshot of Baghdad during the surge and Obama does Globalistan (Nimble Books, 2009). His latest book is Empire of Chaos . He may be reached at pepeasiayahoo.com .'"
      ]
     },
     "execution_count": 66,
     "metadata": {},
     "output_type": "execute_result"
    }
   ],
   "source": [
    "Xtest.values[0]"
   ]
  },
  {
   "cell_type": "code",
   "execution_count": 67,
   "metadata": {},
   "outputs": [
    {
     "data": {
      "text/plain": [
       "1357    FAKE\n",
       "2080    FAKE\n",
       "2718    FAKE\n",
       "812     FAKE\n",
       "4886    FAKE\n",
       "        ... \n",
       "1512    FAKE\n",
       "57      REAL\n",
       "6092    REAL\n",
       "3403    REAL\n",
       "292     REAL\n",
       "Name: label, Length: 1267, dtype: object"
      ]
     },
     "execution_count": 67,
     "metadata": {},
     "output_type": "execute_result"
    }
   ],
   "source": [
    "ytest"
   ]
  },
  {
   "cell_type": "code",
   "execution_count": 69,
   "metadata": {},
   "outputs": [],
   "source": [
    "new_text = pd.Series(\n",
    "    ['Today in Brooklyn, a man was gunned down by two armed female attackers. The assailants are still at large. Anyone with information should contact the NYPD.']\n",
    ")"
   ]
  },
  {
   "cell_type": "code",
   "execution_count": 70,
   "metadata": {},
   "outputs": [
    {
     "data": {
      "text/plain": [
       "array(['FAKE'], dtype=object)"
      ]
     },
     "execution_count": 70,
     "metadata": {},
     "output_type": "execute_result"
    }
   ],
   "source": [
    "model.predict(new_text)"
   ]
  },
  {
   "cell_type": "code",
   "execution_count": null,
   "metadata": {},
   "outputs": [],
   "source": [
    "new_text = pd.Series(\n",
    "    [\n",
    "        \"\"\"\n",
    "        Federal prosecutors on Tuesday accused Rep. George Santos of stealing donors’ identities and running up thousands of dollars in fraudulent charges on their credit cards.\n",
    "        The 10 new charges against Santos also include allegations that the New York Republican embezzled cash from his company and conspired with his former campaign treasurer to falsify donation totals in order to hit fundraising targets set by national Republicans, among other offenses.\n",
    "        \"\"\"\n",
    "    ]\n",
    ")"
   ]
  }
 ],
 "metadata": {
  "kernelspec": {
   "display_name": ".venv",
   "language": "python",
   "name": "python3"
  },
  "language_info": {
   "codemirror_mode": {
    "name": "ipython",
    "version": 3
   },
   "file_extension": ".py",
   "mimetype": "text/x-python",
   "name": "python",
   "nbconvert_exporter": "python",
   "pygments_lexer": "ipython3",
   "version": "3.11.3"
  }
 },
 "nbformat": 4,
 "nbformat_minor": 2
}
